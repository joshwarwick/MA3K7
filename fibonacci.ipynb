{
 "cells": [
  {
   "cell_type": "markdown",
   "id": "450c590a-98f9-42e6-89a9-b50b4680b7da",
   "metadata": {},
   "source": [
    "## MA3K7 Assignment 1\n",
    "\n",
    "Exists to test the potential bracelets."
   ]
  },
  {
   "cell_type": "code",
   "execution_count": 1,
   "id": "8fb2dff7-ba74-46c2-98d9-59101d98de79",
   "metadata": {},
   "outputs": [
    {
     "name": "stdout",
     "output_type": "stream",
     "text": [
      "[1, 1, 2, 3, 5, 8, 3, 1, 4, 5, 9, 4, 3, 7, 0, 7, 7, 4, 1, 5, 6, 1, 7, 8, 5, 3, 8, 1, 9, 0, 9, 9, 8, 7, 5, 2, 7, 9, 6, 5, 1, 6, 7, 3, 0, 3, 3, 6, 9, 5, 4, 9, 3, 2, 5, 7, 2, 9, 1, 0]\n",
      "The chain has 60 numbers\n"
     ]
    }
   ],
   "source": [
    "# Just the regular fibonacci sequence mod 10, break when repeating\n",
    "chain = [1,1]\n",
    "prev = 1\n",
    "curr = 1\n",
    "\n",
    "while True:\n",
    "    next = (curr + prev) % 10\n",
    "    prev = curr\n",
    "    curr = next\n",
    "    if (prev == chain[0] and curr == chain[1]):\n",
    "        chain.pop()\n",
    "        break\n",
    "    chain.append(next)\n",
    "\n",
    "print(chain)\n",
    "print(\"The chain has\", len(chain), \"numbers\")"
   ]
  },
  {
   "cell_type": "code",
   "execution_count": 2,
   "id": "4314b050-3acf-4160-a34b-baa41dd55834",
   "metadata": {},
   "outputs": [
    {
     "name": "stdout",
     "output_type": "stream",
     "text": [
      "Current chain: [0] \n",
      " of length 1 \n",
      "\n",
      "Current chain: [0, 1, 1, 2, 3, 5, 8, 3, 1, 4, 5, 9, 4, 3, 7, 0, 7, 7, 4, 1, 5, 6, 1, 7, 8, 5, 3, 8, 1, 9, 0, 9, 9, 8, 7, 5, 2, 7, 9, 6, 5, 1, 6, 7, 3, 0, 3, 3, 6, 9, 5, 4, 9, 3, 2, 5, 7, 2, 9, 1] \n",
      " of length 60 \n",
      "\n",
      "Current chain: [0, 2, 2, 4, 6, 0, 6, 6, 2, 8, 0, 8, 8, 6, 4, 0, 4, 4, 8, 2] \n",
      " of length 20 \n",
      "\n",
      "Current chain: [0, 5, 5] \n",
      " of length 3 \n",
      "\n",
      "Current chain: [1, 3, 4, 7, 1, 8, 9, 7, 6, 3, 9, 2] \n",
      " of length 12 \n",
      "\n",
      "Current chain: [2, 6, 8, 4] \n",
      " of length 4 \n",
      "\n"
     ]
    }
   ],
   "source": [
    "# Finding all bracelets\n",
    "import numpy as np\n",
    "\n",
    "# Hashmap\n",
    "bracelet = np.zeros(100)\n",
    "\n",
    "# Cycle through the hash map in order\n",
    "start_elements = 0\n",
    "while (bracelet.all() != np.ones(100).all()):\n",
    "    chain = [(start_elements-start_elements%10)//10, start_elements%10]\n",
    "    prev = chain[0]\n",
    "    curr = chain[1]\n",
    "    \n",
    "    # Same as the previous cell, but alters the bracelet\n",
    "    while True:\n",
    "        bracelet[10*prev + curr] = 1\n",
    "        next = (curr + prev) % 10\n",
    "        prev = curr\n",
    "        curr = next\n",
    "        if (prev == chain[0] and curr == chain[1]):\n",
    "            chain.pop()\n",
    "            print(\"Current chain:\", chain, \"\\n of length\", len(chain), \"\\n\")\n",
    "            break\n",
    "        chain.append(next)\n",
    "    # Finds the next number which hasn't yet appeared in a bracelet\n",
    "    while (bracelet[start_elements] != 0):\n",
    "        start_elements +=1\n",
    "        if (start_elements == 99):\n",
    "            break    "
   ]
  }
 ],
 "metadata": {
  "kernelspec": {
   "display_name": "Python 3 (ipykernel)",
   "language": "python",
   "name": "python3"
  },
  "language_info": {
   "codemirror_mode": {
    "name": "ipython",
    "version": 3
   },
   "file_extension": ".py",
   "mimetype": "text/x-python",
   "name": "python",
   "nbconvert_exporter": "python",
   "pygments_lexer": "ipython3",
   "version": "3.11.6"
  }
 },
 "nbformat": 4,
 "nbformat_minor": 5
}
